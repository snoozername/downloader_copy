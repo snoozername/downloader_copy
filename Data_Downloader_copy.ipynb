{
  "nbformat": 4,
  "nbformat_minor": 0,
  "metadata": {
    "colab": {
      "provenance": [],
      "toc_visible": true,
      "include_colab_link": true
    },
    "kernelspec": {
      "name": "python3",
      "display_name": "Python 3"
    }
  },
  "cells": [
    {
      "cell_type": "markdown",
      "metadata": {
        "id": "view-in-github",
        "colab_type": "text"
      },
      "source": [
        "<a href=\"https://colab.research.google.com/github/snoozername/downloader_copy/blob/main/Data_Downloader_copy.ipynb\" target=\"_parent\"><img src=\"https://colab.research.google.com/assets/colab-badge.svg\" alt=\"Open In Colab\"/></a>"
      ]
    },
    {
      "cell_type": "markdown",
      "source": [
        "# Preparation"
      ],
      "metadata": {
        "id": "UC9giqpdLbpG"
      }
    },
    {
      "cell_type": "code",
      "source": [
        "# Clones the OIDv4 Toolkit repository from GitHub\n",
        "!git clone https://github.com/EscVM/OIDv4_ToolKit.git"
      ],
      "metadata": {
        "colab": {
          "base_uri": "https://localhost:8080/"
        },
        "id": "GOsls_UErK_8",
        "outputId": "c700ad56-148d-4d3e-9336-dc7d1d9d96c1"
      },
      "execution_count": null,
      "outputs": [
        {
          "output_type": "stream",
          "name": "stdout",
          "text": [
            "Cloning into 'OIDv4_ToolKit'...\n",
            "remote: Enumerating objects: 422, done.\u001b[K\n",
            "remote: Total 422 (delta 0), reused 0 (delta 0), pack-reused 422\u001b[K\n",
            "Receiving objects: 100% (422/422), 34.08 MiB | 16.62 MiB/s, done.\n",
            "Resolving deltas: 100% (146/146), done.\n"
          ]
        }
      ]
    },
    {
      "cell_type": "code",
      "metadata": {
        "colab": {
          "base_uri": "https://localhost:8080/"
        },
        "id": "MbQ2DwPZsTjO",
        "outputId": "e108ce5d-b5eb-4dcf-c29e-6f09d9ddbf36"
      },
      "source": [
        "%cd OIDv4_ToolKit"
      ],
      "execution_count": null,
      "outputs": [
        {
          "output_type": "stream",
          "name": "stdout",
          "text": [
            "/content/OIDv4_ToolKit\n"
          ]
        }
      ]
    },
    {
      "cell_type": "code",
      "metadata": {
        "colab": {
          "base_uri": "https://localhost:8080/"
        },
        "id": "SUuXYixYsjZT",
        "outputId": "ca30baac-97ca-44ca-a3e4-ecb960067a7c"
      },
      "source": [
        "# Installs the required Python packages for the OIDv4 Toolkit\n",
        "!pip install -r requirements.txt"
      ],
      "execution_count": null,
      "outputs": [
        {
          "output_type": "stream",
          "name": "stdout",
          "text": [
            "Requirement already satisfied: pandas in /usr/local/lib/python3.10/dist-packages (from -r requirements.txt (line 1)) (1.5.3)\n",
            "Requirement already satisfied: numpy in /usr/local/lib/python3.10/dist-packages (from -r requirements.txt (line 2)) (1.22.4)\n",
            "Collecting awscli (from -r requirements.txt (line 3))\n",
            "  Downloading awscli-1.29.5-py3-none-any.whl (4.1 MB)\n",
            "\u001b[2K     \u001b[90m━━━━━━━━━━━━━━━━━━━━━━━━━━━━━━━━━━━━━━━━\u001b[0m \u001b[32m4.1/4.1 MB\u001b[0m \u001b[31m9.3 MB/s\u001b[0m eta \u001b[36m0:00:00\u001b[0m\n",
            "\u001b[?25hRequirement already satisfied: urllib3 in /usr/local/lib/python3.10/dist-packages (from -r requirements.txt (line 5)) (1.26.16)\n",
            "Requirement already satisfied: tqdm in /usr/local/lib/python3.10/dist-packages (from -r requirements.txt (line 7)) (4.65.0)\n",
            "Requirement already satisfied: opencv-python in /usr/local/lib/python3.10/dist-packages (from -r requirements.txt (line 9)) (4.7.0.72)\n",
            "Requirement already satisfied: python-dateutil>=2.8.1 in /usr/local/lib/python3.10/dist-packages (from pandas->-r requirements.txt (line 1)) (2.8.2)\n",
            "Requirement already satisfied: pytz>=2020.1 in /usr/local/lib/python3.10/dist-packages (from pandas->-r requirements.txt (line 1)) (2022.7.1)\n",
            "Collecting botocore==1.31.5 (from awscli->-r requirements.txt (line 3))\n",
            "  Downloading botocore-1.31.5-py3-none-any.whl (11.0 MB)\n",
            "\u001b[2K     \u001b[90m━━━━━━━━━━━━━━━━━━━━━━━━━━━━━━━━━━━━━━━━\u001b[0m \u001b[32m11.0/11.0 MB\u001b[0m \u001b[31m35.7 MB/s\u001b[0m eta \u001b[36m0:00:00\u001b[0m\n",
            "\u001b[?25hRequirement already satisfied: docutils<0.17,>=0.10 in /usr/local/lib/python3.10/dist-packages (from awscli->-r requirements.txt (line 3)) (0.16)\n",
            "Collecting s3transfer<0.7.0,>=0.6.0 (from awscli->-r requirements.txt (line 3))\n",
            "  Downloading s3transfer-0.6.1-py3-none-any.whl (79 kB)\n",
            "\u001b[2K     \u001b[90m━━━━━━━━━━━━━━━━━━━━━━━━━━━━━━━━━━━━━━━━\u001b[0m \u001b[32m79.8/79.8 kB\u001b[0m \u001b[31m7.3 MB/s\u001b[0m eta \u001b[36m0:00:00\u001b[0m\n",
            "\u001b[?25hRequirement already satisfied: PyYAML<6.1,>=3.10 in /usr/local/lib/python3.10/dist-packages (from awscli->-r requirements.txt (line 3)) (6.0)\n",
            "Collecting colorama<0.4.5,>=0.2.5 (from awscli->-r requirements.txt (line 3))\n",
            "  Downloading colorama-0.4.4-py2.py3-none-any.whl (16 kB)\n",
            "Collecting rsa<4.8,>=3.1.2 (from awscli->-r requirements.txt (line 3))\n",
            "  Downloading rsa-4.7.2-py3-none-any.whl (34 kB)\n",
            "Collecting jmespath<2.0.0,>=0.7.1 (from botocore==1.31.5->awscli->-r requirements.txt (line 3))\n",
            "  Downloading jmespath-1.0.1-py3-none-any.whl (20 kB)\n",
            "Requirement already satisfied: six>=1.5 in /usr/local/lib/python3.10/dist-packages (from python-dateutil>=2.8.1->pandas->-r requirements.txt (line 1)) (1.16.0)\n",
            "Requirement already satisfied: pyasn1>=0.1.3 in /usr/local/lib/python3.10/dist-packages (from rsa<4.8,>=3.1.2->awscli->-r requirements.txt (line 3)) (0.5.0)\n",
            "Installing collected packages: rsa, jmespath, colorama, botocore, s3transfer, awscli\n",
            "  Attempting uninstall: rsa\n",
            "    Found existing installation: rsa 4.9\n",
            "    Uninstalling rsa-4.9:\n",
            "      Successfully uninstalled rsa-4.9\n",
            "Successfully installed awscli-1.29.5 botocore-1.31.5 colorama-0.4.4 jmespath-1.0.1 rsa-4.7.2 s3transfer-0.6.1\n"
          ]
        }
      ]
    },
    {
      "cell_type": "markdown",
      "source": [
        "# Data Download"
      ],
      "metadata": {
        "id": "zo8LlPSaLg0s"
      }
    },
    {
      "cell_type": "markdown",
      "source": [
        "This part downloads the images specified classes from the Open Images Dataset using the OIDv4 Toolkit.\n",
        "\n",
        "To get multiple classes, put the name of the object that you want to get images for in between the 'classes' and 'type_csv' parameters (basically, the strings in orange). To limit yourself to only *n* pictures per class, change the 'limit' parameter to your desired size *n*.\n",
        "\n",
        "The script will at some points ask you to download a missing file (these prompts will show up as blue text). You need to click in the terminal and enter 'y' to accept it whenever this happens."
      ],
      "metadata": {
        "id": "geIi6YivRRBq"
      }
    },
    {
      "cell_type": "code",
      "metadata": {
        "colab": {
          "base_uri": "https://localhost:8080/"
        },
        "id": "o5siC1kJVnOv",
        "outputId": "e29d3242-b026-436e-9bb7-ab3b0f980d47"
      },
      "source": [
        " !python3 main.py downloader --classes 'Apple' 'Orange' --type_csv train --limit 20"
      ],
      "execution_count": null,
      "outputs": [
        {
          "output_type": "stream",
          "name": "stdout",
          "text": [
            "\u001b[92m\n",
            "\t\t   ___   _____  ______            _    _    \n",
            "\t\t .'   `.|_   _||_   _ `.         | |  | |   \n",
            "\t\t/  .-.  \\ | |    | | `. \\ _   __ | |__| |_  \n",
            "\t\t| |   | | | |    | |  | |[ \\ [  ]|____   _| \n",
            "\t\t\\  `-'  /_| |_  _| |_.' / \\ \\/ /     _| |_  \n",
            "\t\t `.___.'|_____||______.'   \\__/     |_____|\n",
            "\t\u001b[0m\n",
            "\u001b[92m\n",
            "             _____                    _                 _             \n",
            "            (____ \\                  | |               | |            \n",
            "             _   \\ \\ ___  _ _ _ ____ | | ___   ____  _ | | ____  ____ \n",
            "            | |   | / _ \\| | | |  _ \\| |/ _ \\ / _  |/ || |/ _  )/ ___)\n",
            "            | |__/ / |_| | | | | | | | | |_| ( ( | ( (_| ( (/ /| |    \n",
            "            |_____/ \\___/ \\____|_| |_|_|\\___/ \\_||_|\\____|\\____)_|    \n",
            "                                                          \n",
            "        \u001b[0m\n",
            "    [INFO] | Downloading Apple.\u001b[0m\n",
            "\u001b[91m   [ERROR] | Missing the class-descriptions-boxable.csv file.\u001b[0m\n",
            "\u001b[94m[DOWNLOAD] | Do you want to download the missing file? [Y/n] \u001b[0my\n",
            "...145%, 0 MB, 31241 KB/s, 0 seconds passed\n",
            "\u001b[94m[DOWNLOAD] | File class-descriptions-boxable.csv downloaded into OID/csv_folder/class-descriptions-boxable.csv.\u001b[0m\n",
            "\u001b[91m   [ERROR] | Missing the train-annotations-bbox.csv file.\u001b[0m\n",
            "\u001b[94m[DOWNLOAD] | Do you want to download the missing file? [Y/n] \u001b[0my\n",
            "...100%, 1138 MB, 35443 KB/s, 32 seconds passed\n",
            "\u001b[94m[DOWNLOAD] | File train-annotations-bbox.csv downloaded into OID/csv_folder/train-annotations-bbox.csv.\u001b[0m\n",
            "\n",
            "\u001b[95mApple\u001b[0m\n",
            "    [INFO] | Downloading train images.\u001b[0m\n",
            "    [INFO] | [INFO] Found 1078 online images for train.\u001b[0m\n",
            "    [INFO] | Limiting to 20 images.\u001b[0m\n",
            "    [INFO] | Download of 20 images in train.\u001b[0m\n",
            "100% 20/20 [00:17<00:00,  1.13it/s]\n",
            "    [INFO] | Done!\u001b[0m\n",
            "    [INFO] | Creating labels for Apple of train.\u001b[0m\n",
            "    [INFO] | Labels creation completed.\u001b[0m\n",
            "    [INFO] | Downloading Orange.\u001b[0m\n",
            "\n",
            "\u001b[95mOrange\u001b[0m\n",
            "    [INFO] | Downloading train images.\u001b[0m\n",
            "    [INFO] | [INFO] Found 900 online images for train.\u001b[0m\n",
            "    [INFO] | Limiting to 20 images.\u001b[0m\n",
            "    [INFO] | Download of 20 images in train.\u001b[0m\n",
            "100% 20/20 [00:17<00:00,  1.14it/s]\n",
            "    [INFO] | Done!\u001b[0m\n",
            "    [INFO] | Creating labels for Orange of train.\u001b[0m\n",
            "    [INFO] | Labels creation completed.\u001b[0m\n"
          ]
        }
      ]
    },
    {
      "cell_type": "markdown",
      "source": [
        "# Zip & download dataset"
      ],
      "metadata": {
        "id": "kWRXoScgM50A"
      }
    },
    {
      "cell_type": "code",
      "source": [
        "from google.colab import files\n",
        "\n",
        "!zip -r data.zip /content/OIDv4_ToolKit/OID/Dataset/train\n",
        "\n",
        "files.download('data.zip')"
      ],
      "metadata": {
        "colab": {
          "base_uri": "https://localhost:8080/"
        },
        "id": "N39z1LA5gNhl",
        "outputId": "b36e9fe7-5da6-4cca-8799-8b8e2258cfc8"
      },
      "execution_count": null,
      "outputs": [
        {
          "output_type": "stream",
          "name": "stdout",
          "text": [
            "  adding: content/OIDv4_ToolKit/OID/Dataset/train/ (stored 0%)\n",
            "  adding: content/OIDv4_ToolKit/OID/Dataset/train/Orange/ (stored 0%)\n",
            "  adding: content/OIDv4_ToolKit/OID/Dataset/train/Orange/07afa437e2aa458b.jpg (deflated 0%)\n",
            "  adding: content/OIDv4_ToolKit/OID/Dataset/train/Orange/deac92b9b4842eaf.jpg (deflated 0%)\n",
            "  adding: content/OIDv4_ToolKit/OID/Dataset/train/Orange/718a423f1a9b7aba.jpg (deflated 0%)\n",
            "  adding: content/OIDv4_ToolKit/OID/Dataset/train/Orange/bf8bdff451d3c72d.jpg (deflated 0%)\n",
            "  adding: content/OIDv4_ToolKit/OID/Dataset/train/Orange/7ba8942114dbacca.jpg (deflated 0%)\n",
            "  adding: content/OIDv4_ToolKit/OID/Dataset/train/Orange/353ce3f0e995ff30.jpg (deflated 0%)\n",
            "  adding: content/OIDv4_ToolKit/OID/Dataset/train/Orange/7243bb39ae8d770d.jpg (deflated 2%)\n",
            "  adding: content/OIDv4_ToolKit/OID/Dataset/train/Orange/397b06f29d2cdb8e.jpg (deflated 11%)\n",
            "  adding: content/OIDv4_ToolKit/OID/Dataset/train/Orange/129c8db1b1345bf5.jpg (deflated 0%)\n",
            "  adding: content/OIDv4_ToolKit/OID/Dataset/train/Orange/88e3827e93f00125.jpg (deflated 0%)\n",
            "  adding: content/OIDv4_ToolKit/OID/Dataset/train/Orange/533ee2dfc463c73a.jpg (deflated 0%)\n",
            "  adding: content/OIDv4_ToolKit/OID/Dataset/train/Orange/2554ed142bc25376.jpg (deflated 0%)\n",
            "  adding: content/OIDv4_ToolKit/OID/Dataset/train/Orange/f3c663da713dbcd8.jpg (deflated 0%)\n",
            "  adding: content/OIDv4_ToolKit/OID/Dataset/train/Orange/319693f1d47c3472.jpg (deflated 0%)\n",
            "  adding: content/OIDv4_ToolKit/OID/Dataset/train/Orange/f1a2a248e18c6bab.jpg (deflated 0%)\n",
            "  adding: content/OIDv4_ToolKit/OID/Dataset/train/Orange/e1e44fcfaac394e6.jpg (deflated 0%)\n",
            "  adding: content/OIDv4_ToolKit/OID/Dataset/train/Orange/e9e791fa17af528c.jpg (deflated 0%)\n",
            "  adding: content/OIDv4_ToolKit/OID/Dataset/train/Orange/Label/ (stored 0%)\n",
            "  adding: content/OIDv4_ToolKit/OID/Dataset/train/Orange/Label/deac92b9b4842eaf.txt (deflated 55%)\n",
            "  adding: content/OIDv4_ToolKit/OID/Dataset/train/Orange/Label/353ce3f0e995ff30.txt (deflated 44%)\n",
            "  adding: content/OIDv4_ToolKit/OID/Dataset/train/Orange/Label/7243bb39ae8d770d.txt (deflated 40%)\n",
            "  adding: content/OIDv4_ToolKit/OID/Dataset/train/Orange/Label/e1e44fcfaac394e6.txt (deflated 62%)\n",
            "  adding: content/OIDv4_ToolKit/OID/Dataset/train/Orange/Label/397b06f29d2cdb8e.txt (stored 0%)\n",
            "  adding: content/OIDv4_ToolKit/OID/Dataset/train/Orange/Label/88e3827e93f00125.txt (deflated 61%)\n",
            "  adding: content/OIDv4_ToolKit/OID/Dataset/train/Orange/Label/f1a2a248e18c6bab.txt (deflated 40%)\n",
            "  adding: content/OIDv4_ToolKit/OID/Dataset/train/Orange/Label/07afa437e2aa458b.txt (deflated 25%)\n",
            "  adding: content/OIDv4_ToolKit/OID/Dataset/train/Orange/Label/271fb3abc706f902.txt (deflated 33%)\n",
            "  adding: content/OIDv4_ToolKit/OID/Dataset/train/Orange/Label/533ee2dfc463c73a.txt (deflated 23%)\n",
            "  adding: content/OIDv4_ToolKit/OID/Dataset/train/Orange/Label/bf8bdff451d3c72d.txt (deflated 59%)\n",
            "  adding: content/OIDv4_ToolKit/OID/Dataset/train/Orange/Label/718a423f1a9b7aba.txt (deflated 40%)\n",
            "  adding: content/OIDv4_ToolKit/OID/Dataset/train/Orange/Label/e9e791fa17af528c.txt (deflated 20%)\n",
            "  adding: content/OIDv4_ToolKit/OID/Dataset/train/Orange/Label/f346dc7d8aa07c24.txt (deflated 6%)\n",
            "  adding: content/OIDv4_ToolKit/OID/Dataset/train/Orange/Label/2554ed142bc25376.txt (stored 0%)\n",
            "  adding: content/OIDv4_ToolKit/OID/Dataset/train/Orange/Label/e46fc01708a58c06.txt (deflated 50%)\n",
            "  adding: content/OIDv4_ToolKit/OID/Dataset/train/Orange/Label/f3c663da713dbcd8.txt (deflated 38%)\n",
            "  adding: content/OIDv4_ToolKit/OID/Dataset/train/Orange/Label/319693f1d47c3472.txt (deflated 42%)\n",
            "  adding: content/OIDv4_ToolKit/OID/Dataset/train/Orange/Label/129c8db1b1345bf5.txt (stored 0%)\n",
            "  adding: content/OIDv4_ToolKit/OID/Dataset/train/Orange/Label/7ba8942114dbacca.txt (deflated 16%)\n",
            "  adding: content/OIDv4_ToolKit/OID/Dataset/train/Orange/271fb3abc706f902.jpg (deflated 0%)\n",
            "  adding: content/OIDv4_ToolKit/OID/Dataset/train/Orange/f346dc7d8aa07c24.jpg (deflated 0%)\n",
            "  adding: content/OIDv4_ToolKit/OID/Dataset/train/Orange/e46fc01708a58c06.jpg (deflated 0%)\n",
            "  adding: content/OIDv4_ToolKit/OID/Dataset/train/Apple/ (stored 0%)\n",
            "  adding: content/OIDv4_ToolKit/OID/Dataset/train/Apple/4b6647bce4dc0740.jpg (deflated 0%)\n",
            "  adding: content/OIDv4_ToolKit/OID/Dataset/train/Apple/a3aa6404240b206b.jpg (deflated 0%)\n",
            "  adding: content/OIDv4_ToolKit/OID/Dataset/train/Apple/913165e916ce53f0.jpg (deflated 0%)\n",
            "  adding: content/OIDv4_ToolKit/OID/Dataset/train/Apple/04058060fde8ca26.jpg (deflated 0%)\n",
            "  adding: content/OIDv4_ToolKit/OID/Dataset/train/Apple/cd3d607d7bb6f372.jpg (deflated 0%)\n",
            "  adding: content/OIDv4_ToolKit/OID/Dataset/train/Apple/a351d80631ae26bb.jpg (deflated 0%)\n",
            "  adding: content/OIDv4_ToolKit/OID/Dataset/train/Apple/048cdcfa81f38e7a.jpg (deflated 0%)\n",
            "  adding: content/OIDv4_ToolKit/OID/Dataset/train/Apple/27b0b9ed4781d2db.jpg (deflated 0%)\n",
            "  adding: content/OIDv4_ToolKit/OID/Dataset/train/Apple/8c1861a23279c64e.jpg (deflated 0%)\n",
            "  adding: content/OIDv4_ToolKit/OID/Dataset/train/Apple/3d53c21785c5fb8f.jpg (deflated 0%)\n",
            "  adding: content/OIDv4_ToolKit/OID/Dataset/train/Apple/aa0c8466e5782bf7.jpg (deflated 0%)\n",
            "  adding: content/OIDv4_ToolKit/OID/Dataset/train/Apple/64d77cf23e33b644.jpg (deflated 0%)\n",
            "  adding: content/OIDv4_ToolKit/OID/Dataset/train/Apple/c2c783eb8e40fdae.jpg (deflated 0%)\n",
            "  adding: content/OIDv4_ToolKit/OID/Dataset/train/Apple/0a10741ac3a26b7c.jpg (deflated 0%)\n",
            "  adding: content/OIDv4_ToolKit/OID/Dataset/train/Apple/37780c0eca74d552.jpg (deflated 0%)\n",
            "  adding: content/OIDv4_ToolKit/OID/Dataset/train/Apple/2559ce5a23f36f5b.jpg (deflated 0%)\n",
            "  adding: content/OIDv4_ToolKit/OID/Dataset/train/Apple/Label/ (stored 0%)\n",
            "  adding: content/OIDv4_ToolKit/OID/Dataset/train/Apple/Label/a351d80631ae26bb.txt (stored 0%)\n",
            "  adding: content/OIDv4_ToolKit/OID/Dataset/train/Apple/Label/8c1861a23279c64e.txt (deflated 8%)\n",
            "  adding: content/OIDv4_ToolKit/OID/Dataset/train/Apple/Label/048cdcfa81f38e7a.txt (deflated 26%)\n",
            "  adding: content/OIDv4_ToolKit/OID/Dataset/train/Apple/Label/04058060fde8ca26.txt (deflated 34%)\n",
            "  adding: content/OIDv4_ToolKit/OID/Dataset/train/Apple/Label/3d53c21785c5fb8f.txt (deflated 45%)\n",
            "  adding: content/OIDv4_ToolKit/OID/Dataset/train/Apple/Label/0a10741ac3a26b7c.txt (stored 0%)\n",
            "  adding: content/OIDv4_ToolKit/OID/Dataset/train/Apple/Label/3753a59ebd78d145.txt (deflated 5%)\n",
            "  adding: content/OIDv4_ToolKit/OID/Dataset/train/Apple/Label/cd3d607d7bb6f372.txt (deflated 8%)\n",
            "  adding: content/OIDv4_ToolKit/OID/Dataset/train/Apple/Label/4b6647bce4dc0740.txt (deflated 2%)\n",
            "  adding: content/OIDv4_ToolKit/OID/Dataset/train/Apple/Label/950ebda76229cd44.txt (deflated 9%)\n",
            "  adding: content/OIDv4_ToolKit/OID/Dataset/train/Apple/Label/2559ce5a23f36f5b.txt (deflated 37%)\n",
            "  adding: content/OIDv4_ToolKit/OID/Dataset/train/Apple/Label/aa0c8466e5782bf7.txt (deflated 14%)\n",
            "  adding: content/OIDv4_ToolKit/OID/Dataset/train/Apple/Label/27b0b9ed4781d2db.txt (deflated 60%)\n",
            "  adding: content/OIDv4_ToolKit/OID/Dataset/train/Apple/Label/c2c783eb8e40fdae.txt (deflated 67%)\n",
            "  adding: content/OIDv4_ToolKit/OID/Dataset/train/Apple/Label/00881627629888f6.txt (deflated 6%)\n",
            "  adding: content/OIDv4_ToolKit/OID/Dataset/train/Apple/Label/64d77cf23e33b644.txt (stored 0%)\n",
            "  adding: content/OIDv4_ToolKit/OID/Dataset/train/Apple/Label/a3aa6404240b206b.txt (stored 0%)\n",
            "  adding: content/OIDv4_ToolKit/OID/Dataset/train/Apple/Label/37780c0eca74d552.txt (deflated 53%)\n",
            "  adding: content/OIDv4_ToolKit/OID/Dataset/train/Apple/Label/913165e916ce53f0.txt (deflated 2%)\n",
            "  adding: content/OIDv4_ToolKit/OID/Dataset/train/Apple/Label/7862aefc5dc6ae56.txt (deflated 44%)\n",
            "  adding: content/OIDv4_ToolKit/OID/Dataset/train/Apple/950ebda76229cd44.jpg (deflated 0%)\n",
            "  adding: content/OIDv4_ToolKit/OID/Dataset/train/Apple/00881627629888f6.jpg (deflated 0%)\n",
            "  adding: content/OIDv4_ToolKit/OID/Dataset/train/Apple/3753a59ebd78d145.jpg (deflated 0%)\n",
            "  adding: content/OIDv4_ToolKit/OID/Dataset/train/Apple/7862aefc5dc6ae56.jpg (deflated 0%)\n"
          ]
        },
        {
          "output_type": "display_data",
          "data": {
            "text/plain": [
              "<IPython.core.display.Javascript object>"
            ],
            "application/javascript": [
              "\n",
              "    async function download(id, filename, size) {\n",
              "      if (!google.colab.kernel.accessAllowed) {\n",
              "        return;\n",
              "      }\n",
              "      const div = document.createElement('div');\n",
              "      const label = document.createElement('label');\n",
              "      label.textContent = `Downloading \"${filename}\": `;\n",
              "      div.appendChild(label);\n",
              "      const progress = document.createElement('progress');\n",
              "      progress.max = size;\n",
              "      div.appendChild(progress);\n",
              "      document.body.appendChild(div);\n",
              "\n",
              "      const buffers = [];\n",
              "      let downloaded = 0;\n",
              "\n",
              "      const channel = await google.colab.kernel.comms.open(id);\n",
              "      // Send a message to notify the kernel that we're ready.\n",
              "      channel.send({})\n",
              "\n",
              "      for await (const message of channel.messages) {\n",
              "        // Send a message to notify the kernel that we're ready.\n",
              "        channel.send({})\n",
              "        if (message.buffers) {\n",
              "          for (const buffer of message.buffers) {\n",
              "            buffers.push(buffer);\n",
              "            downloaded += buffer.byteLength;\n",
              "            progress.value = downloaded;\n",
              "          }\n",
              "        }\n",
              "      }\n",
              "      const blob = new Blob(buffers, {type: 'application/binary'});\n",
              "      const a = document.createElement('a');\n",
              "      a.href = window.URL.createObjectURL(blob);\n",
              "      a.download = filename;\n",
              "      div.appendChild(a);\n",
              "      a.click();\n",
              "      div.remove();\n",
              "    }\n",
              "  "
            ]
          },
          "metadata": {}
        },
        {
          "output_type": "display_data",
          "data": {
            "text/plain": [
              "<IPython.core.display.Javascript object>"
            ],
            "application/javascript": [
              "download(\"download_ba29ae45-459e-4676-938a-355ea6897610\", \"data.zip\", 12601134)"
            ]
          },
          "metadata": {}
        }
      ]
    }
  ]
}